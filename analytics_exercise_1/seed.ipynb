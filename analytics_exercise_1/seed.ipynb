{
 "cells": [
  {
   "cell_type": "markdown",
   "metadata": {},
   "source": [
    "# Script to create seed data"
   ]
  },
  {
   "cell_type": "markdown",
   "metadata": {},
   "source": [
    "This script will create a seed data of users, products, and orders and save them as CSV files\n",
    "Why CSV files? As the focus is analytical functions on Python, creating a queryable DB isn't really worth it. Plus, I'm lazy."
   ]
  },
  {
   "cell_type": "code",
   "execution_count": 1,
   "metadata": {},
   "outputs": [],
   "source": [
    "import pandas as pd # Will be converting the data into dataframes and exporting to csv form\n",
    "from random import random, randrange # To randomly generate different prices, and IDs\n",
    "\n",
    "# The filenames to be used\n",
    "USERS = 'users.csv'\n",
    "PRODUCTS = 'products.csv'\n",
    "ORDERS = 'orders.csv'"
   ]
  },
  {
   "cell_type": "code",
   "execution_count": 2,
   "metadata": {},
   "outputs": [],
   "source": [
    "# A function to generate a randome date between 2018-01-01 and 2019-12-29 and time between 09:00:00 and 22:59:59\n",
    "def generate_random_time(year=None, hour=None, month=None):\n",
    "    d = \"{:02d}\".format(randrange(1, 30))\n",
    "    if not month:\n",
    "        m = \"{:02d}\".format(randrange(1, 13))\n",
    "    else:\n",
    "        m = \"{:02d}\".format(int(month))\n",
    "    if not year:\n",
    "        y = str(randrange(2018, 2020))\n",
    "    else:\n",
    "        y = year\n",
    "    if not hour:\n",
    "        H = \"{:02d}\".format(randrange(0, 24))\n",
    "    else:\n",
    "        H = \"{:02d}\".format(int(hour))\n",
    "    M = \"{:02d}\".format(randrange(0, 60))\n",
    "    S = \"{:02d}\".format(randrange(0, 60))\n",
    "    return '-'.join([y, m, d])+' '+':'.join([H, M, S]) # Returns in the format \"yyyy-mm-dd hh:mm:ss\""
   ]
  },
  {
   "cell_type": "code",
   "execution_count": 3,
   "metadata": {},
   "outputs": [],
   "source": [
    "# How many different users and cities\n",
    "user_count = 1000\n",
    "city_count = 25\n",
    "users = {\n",
    "    'uid': [],\n",
    "    'uname': [],\n",
    "    'city': []\n",
    "}"
   ]
  },
  {
   "cell_type": "code",
   "execution_count": 4,
   "metadata": {},
   "outputs": [],
   "source": [
    "# How many different products and categories\n",
    "product_count = 15\n",
    "category_count = 4\n",
    "products = {\n",
    "    'pid': [],\n",
    "    'pname': [],\n",
    "    'category': [],\n",
    "    'price': []\n",
    "}"
   ]
  },
  {
   "cell_type": "code",
   "execution_count": 5,
   "metadata": {},
   "outputs": [],
   "source": [
    "# Min & Max orders per person\n",
    "orders = {\n",
    "    'oid': [],\n",
    "    'pid': [],\n",
    "    'qty': [],\n",
    "    'uid': [],\n",
    "    'date': [],\n",
    "    'total': [],\n",
    "}"
   ]
  },
  {
   "cell_type": "code",
   "execution_count": 6,
   "metadata": {},
   "outputs": [],
   "source": [
    "# Generate users\n",
    "for i in range(1, user_count+1):\n",
    "    users['uid'].append(i)\n",
    "    users['uname'].append('User '+str(i))\n",
    "    users['city'].append('City '+str(randrange(1, city_count+1)))\n",
    "users = pd.DataFrame(users)"
   ]
  },
  {
   "cell_type": "code",
   "execution_count": 7,
   "metadata": {},
   "outputs": [],
   "source": [
    "# Generate products\n",
    "for i in range(1, product_count+1):\n",
    "    products['pid'].append(i)\n",
    "    products['pname'].append('Product '+str(i))\n",
    "    products['category'].append('Category '+str(randrange(1, category_count+1)))\n",
    "    products['price'].append(round(random()*100,2))\n",
    "products = pd.DataFrame(products)"
   ]
  },
  {
   "cell_type": "code",
   "execution_count": 8,
   "metadata": {},
   "outputs": [],
   "source": [
    "# Generate orders\n",
    "def create_orders(oc, min_o, max_o, users, products, orders, year=None, month=None, hour=None):\n",
    "    for i, row in users.iterrows():\n",
    "        uid = row['uid']\n",
    "        no_of_orders = randrange(min_o, max_o+1)\n",
    "        for j in range(no_of_orders):\n",
    "            p = randrange(products['pid'].min(), products['pid'].max())\n",
    "            price = float(products[products.pid == p]['price'])\n",
    "            qty = randrange(1,5)\n",
    "            total = price*qty\n",
    "            orders['oid'].append(oc)\n",
    "            oc+=1\n",
    "            orders['uid'].append(uid)\n",
    "            orders['pid'].append(p)\n",
    "            orders['qty'].append(qty)\n",
    "            orders['date'].append(generate_random_time(year=year, hour=hour, month=month))\n",
    "            orders['total'].append(total)\n",
    "    return orders, oc"
   ]
  },
  {
   "cell_type": "markdown",
   "metadata": {},
   "source": [
    "Concept for generating orders:\n",
    "\n",
    "While iterating through each user we've created, we are randomly total number of orders for that user between 20 and 40, and then we create that many orders with a random product from `products` with a random quantity between 1 and 4\n",
    "\n",
    "To add a bit of realism to the data, we'll be \n"
   ]
  },
  {
   "cell_type": "code",
   "execution_count": 9,
   "metadata": {},
   "outputs": [],
   "source": [
    "# Generate orders\n",
    "order_counter = 0\n",
    "for mm in range(1, 13):\n",
    "    orders, order_counter = create_orders(order_counter, 20+2*mm, 25+2*mm, users, products, orders, month=mm)\n",
    "    \n",
    "orders, order_counter = create_orders(order_counter, int(5), \n",
    "                                      int(15), users, products, orders, year='2019')\n",
    "for hh in range(10, 18):\n",
    "    orders, order_counter = create_orders(order_counter, int(25-2*abs(hh-14)), \n",
    "                                          int(30-2*abs(hh-14)), users, products, orders, hour=str(hh))\n"
   ]
  },
  {
   "cell_type": "code",
   "execution_count": 10,
   "metadata": {},
   "outputs": [],
   "source": [
    "orders = pd.DataFrame(orders)"
   ]
  },
  {
   "cell_type": "code",
   "execution_count": 11,
   "metadata": {},
   "outputs": [],
   "source": [
    "# Write them out to a file\n",
    "users.to_csv(USERS, header=True)\n",
    "products.to_csv(PRODUCTS, header=True)\n",
    "orders.to_csv(ORDERS, header=True)"
   ]
  },
  {
   "cell_type": "markdown",
   "metadata": {},
   "source": [
    "### Testing"
   ]
  },
  {
   "cell_type": "code",
   "execution_count": 12,
   "metadata": {},
   "outputs": [
    {
     "data": {
      "text/html": [
       "<div>\n",
       "<style scoped>\n",
       "    .dataframe tbody tr th:only-of-type {\n",
       "        vertical-align: middle;\n",
       "    }\n",
       "\n",
       "    .dataframe tbody tr th {\n",
       "        vertical-align: top;\n",
       "    }\n",
       "\n",
       "    .dataframe thead th {\n",
       "        text-align: right;\n",
       "    }\n",
       "</style>\n",
       "<table border=\"1\" class=\"dataframe\">\n",
       "  <thead>\n",
       "    <tr style=\"text-align: right;\">\n",
       "      <th></th>\n",
       "      <th>oid</th>\n",
       "      <th>pid</th>\n",
       "      <th>qty</th>\n",
       "      <th>uid</th>\n",
       "      <th>date</th>\n",
       "      <th>total</th>\n",
       "      <th>pname</th>\n",
       "      <th>category</th>\n",
       "      <th>price</th>\n",
       "      <th>uname</th>\n",
       "      <th>city</th>\n",
       "    </tr>\n",
       "  </thead>\n",
       "  <tbody>\n",
       "    <tr>\n",
       "      <td>0</td>\n",
       "      <td>0</td>\n",
       "      <td>13</td>\n",
       "      <td>2</td>\n",
       "      <td>1</td>\n",
       "      <td>2019-01-26 00:32:50</td>\n",
       "      <td>159.50</td>\n",
       "      <td>Product 13</td>\n",
       "      <td>Category 1</td>\n",
       "      <td>79.75</td>\n",
       "      <td>User 1</td>\n",
       "      <td>City 21</td>\n",
       "    </tr>\n",
       "    <tr>\n",
       "      <td>1</td>\n",
       "      <td>1</td>\n",
       "      <td>1</td>\n",
       "      <td>3</td>\n",
       "      <td>1</td>\n",
       "      <td>2019-01-25 03:45:10</td>\n",
       "      <td>158.85</td>\n",
       "      <td>Product 1</td>\n",
       "      <td>Category 3</td>\n",
       "      <td>52.95</td>\n",
       "      <td>User 1</td>\n",
       "      <td>City 21</td>\n",
       "    </tr>\n",
       "    <tr>\n",
       "      <td>2</td>\n",
       "      <td>2</td>\n",
       "      <td>5</td>\n",
       "      <td>4</td>\n",
       "      <td>1</td>\n",
       "      <td>2018-01-11 00:03:37</td>\n",
       "      <td>16.96</td>\n",
       "      <td>Product 5</td>\n",
       "      <td>Category 4</td>\n",
       "      <td>4.24</td>\n",
       "      <td>User 1</td>\n",
       "      <td>City 21</td>\n",
       "    </tr>\n",
       "    <tr>\n",
       "      <td>3</td>\n",
       "      <td>3</td>\n",
       "      <td>1</td>\n",
       "      <td>3</td>\n",
       "      <td>1</td>\n",
       "      <td>2019-01-15 15:11:29</td>\n",
       "      <td>158.85</td>\n",
       "      <td>Product 1</td>\n",
       "      <td>Category 3</td>\n",
       "      <td>52.95</td>\n",
       "      <td>User 1</td>\n",
       "      <td>City 21</td>\n",
       "    </tr>\n",
       "    <tr>\n",
       "      <td>4</td>\n",
       "      <td>4</td>\n",
       "      <td>9</td>\n",
       "      <td>1</td>\n",
       "      <td>1</td>\n",
       "      <td>2019-01-24 18:26:10</td>\n",
       "      <td>31.29</td>\n",
       "      <td>Product 9</td>\n",
       "      <td>Category 1</td>\n",
       "      <td>31.29</td>\n",
       "      <td>User 1</td>\n",
       "      <td>City 21</td>\n",
       "    </tr>\n",
       "    <tr>\n",
       "      <td>...</td>\n",
       "      <td>...</td>\n",
       "      <td>...</td>\n",
       "      <td>...</td>\n",
       "      <td>...</td>\n",
       "      <td>...</td>\n",
       "      <td>...</td>\n",
       "      <td>...</td>\n",
       "      <td>...</td>\n",
       "      <td>...</td>\n",
       "      <td>...</td>\n",
       "      <td>...</td>\n",
       "    </tr>\n",
       "    <tr>\n",
       "      <td>624146</td>\n",
       "      <td>624146</td>\n",
       "      <td>8</td>\n",
       "      <td>4</td>\n",
       "      <td>1000</td>\n",
       "      <td>2018-03-24 17:43:30</td>\n",
       "      <td>230.56</td>\n",
       "      <td>Product 8</td>\n",
       "      <td>Category 2</td>\n",
       "      <td>57.64</td>\n",
       "      <td>User 1000</td>\n",
       "      <td>City 10</td>\n",
       "    </tr>\n",
       "    <tr>\n",
       "      <td>624147</td>\n",
       "      <td>624147</td>\n",
       "      <td>4</td>\n",
       "      <td>3</td>\n",
       "      <td>1000</td>\n",
       "      <td>2018-07-10 17:39:19</td>\n",
       "      <td>29.76</td>\n",
       "      <td>Product 4</td>\n",
       "      <td>Category 1</td>\n",
       "      <td>9.92</td>\n",
       "      <td>User 1000</td>\n",
       "      <td>City 10</td>\n",
       "    </tr>\n",
       "    <tr>\n",
       "      <td>624148</td>\n",
       "      <td>624148</td>\n",
       "      <td>5</td>\n",
       "      <td>2</td>\n",
       "      <td>1000</td>\n",
       "      <td>2019-07-01 17:04:48</td>\n",
       "      <td>8.48</td>\n",
       "      <td>Product 5</td>\n",
       "      <td>Category 4</td>\n",
       "      <td>4.24</td>\n",
       "      <td>User 1000</td>\n",
       "      <td>City 10</td>\n",
       "    </tr>\n",
       "    <tr>\n",
       "      <td>624149</td>\n",
       "      <td>624149</td>\n",
       "      <td>14</td>\n",
       "      <td>3</td>\n",
       "      <td>1000</td>\n",
       "      <td>2018-04-23 17:02:55</td>\n",
       "      <td>125.28</td>\n",
       "      <td>Product 14</td>\n",
       "      <td>Category 4</td>\n",
       "      <td>41.76</td>\n",
       "      <td>User 1000</td>\n",
       "      <td>City 10</td>\n",
       "    </tr>\n",
       "    <tr>\n",
       "      <td>624150</td>\n",
       "      <td>624150</td>\n",
       "      <td>9</td>\n",
       "      <td>3</td>\n",
       "      <td>1000</td>\n",
       "      <td>2019-02-22 17:45:58</td>\n",
       "      <td>93.87</td>\n",
       "      <td>Product 9</td>\n",
       "      <td>Category 1</td>\n",
       "      <td>31.29</td>\n",
       "      <td>User 1000</td>\n",
       "      <td>City 10</td>\n",
       "    </tr>\n",
       "  </tbody>\n",
       "</table>\n",
       "<p>624151 rows × 11 columns</p>\n",
       "</div>"
      ],
      "text/plain": [
       "           oid  pid  qty   uid                 date   total       pname  \\\n",
       "0            0   13    2     1  2019-01-26 00:32:50  159.50  Product 13   \n",
       "1            1    1    3     1  2019-01-25 03:45:10  158.85   Product 1   \n",
       "2            2    5    4     1  2018-01-11 00:03:37   16.96   Product 5   \n",
       "3            3    1    3     1  2019-01-15 15:11:29  158.85   Product 1   \n",
       "4            4    9    1     1  2019-01-24 18:26:10   31.29   Product 9   \n",
       "...        ...  ...  ...   ...                  ...     ...         ...   \n",
       "624146  624146    8    4  1000  2018-03-24 17:43:30  230.56   Product 8   \n",
       "624147  624147    4    3  1000  2018-07-10 17:39:19   29.76   Product 4   \n",
       "624148  624148    5    2  1000  2019-07-01 17:04:48    8.48   Product 5   \n",
       "624149  624149   14    3  1000  2018-04-23 17:02:55  125.28  Product 14   \n",
       "624150  624150    9    3  1000  2019-02-22 17:45:58   93.87   Product 9   \n",
       "\n",
       "          category  price      uname     city  \n",
       "0       Category 1  79.75     User 1  City 21  \n",
       "1       Category 3  52.95     User 1  City 21  \n",
       "2       Category 4   4.24     User 1  City 21  \n",
       "3       Category 3  52.95     User 1  City 21  \n",
       "4       Category 1  31.29     User 1  City 21  \n",
       "...            ...    ...        ...      ...  \n",
       "624146  Category 2  57.64  User 1000  City 10  \n",
       "624147  Category 1   9.92  User 1000  City 10  \n",
       "624148  Category 4   4.24  User 1000  City 10  \n",
       "624149  Category 4  41.76  User 1000  City 10  \n",
       "624150  Category 1  31.29  User 1000  City 10  \n",
       "\n",
       "[624151 rows x 11 columns]"
      ]
     },
     "execution_count": 12,
     "metadata": {},
     "output_type": "execute_result"
    }
   ],
   "source": [
    "orders.merge(products, left_on='pid', right_on='pid', how='left').merge(users, left_on='uid', right_on='uid', how='left')"
   ]
  },
  {
   "cell_type": "code",
   "execution_count": 13,
   "metadata": {},
   "outputs": [
    {
     "data": {
      "text/plain": [
       "624151"
      ]
     },
     "execution_count": 13,
     "metadata": {},
     "output_type": "execute_result"
    }
   ],
   "source": [
    "len(pd.DataFrame(orders))"
   ]
  },
  {
   "cell_type": "code",
   "execution_count": null,
   "metadata": {},
   "outputs": [],
   "source": []
  }
 ],
 "metadata": {
  "kernelspec": {
   "display_name": "Python 3",
   "language": "python",
   "name": "python3"
  },
  "language_info": {
   "codemirror_mode": {
    "name": "ipython",
    "version": 3
   },
   "file_extension": ".py",
   "mimetype": "text/x-python",
   "name": "python",
   "nbconvert_exporter": "python",
   "pygments_lexer": "ipython3",
   "version": "3.7.4"
  }
 },
 "nbformat": 4,
 "nbformat_minor": 2
}
